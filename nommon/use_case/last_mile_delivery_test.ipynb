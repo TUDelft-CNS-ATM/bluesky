{
 "cells": [
  {
   "cell_type": "code",
   "execution_count": null,
   "id": "62283693",
   "metadata": {},
   "outputs": [],
   "source": [
    "\"\"\"\n",
    "This is a preliminary version of the last mile delivery use case\n",
    "\"\"\"\n",
    "import os\n",
    "os.chdir(r\"C:\\workspace3\\bluesky-USEPE-github\")\n",
    "import configparser\n",
    "import pickle\n",
    "import osmnx as ox\n",
    "import datetime\n",
    "import geopandas as gpd\n",
    "from IPython.display import Image\n",
    "import random\n",
    "\n",
    "from nommon.city_model.city_graph import cityGraph\n",
    "from nommon.city_model.corridors_implementation import corridorLoad\n",
    "from nommon.city_model.dynamic_segments import dynamicSegments\n",
    "from nommon.city_model.multi_di_graph_3D import MultiDiGrpah3D\n",
    "from nommon.city_model.utils import read_my_graphml, layersDict\n",
    "from nommon.city_model.path_planning import trajectoryCalculation, printRoute\n",
    "from nommon.city_model.scenario_definition import createFlightPlan\n",
    "from nommon.city_model.strategic_deconfliction import deconflcitedScenario, initialPopulation\n",
    "from nommon.wind.wind_preprocess import main"
   ]
  },
  {
   "cell_type": "markdown",
   "id": "81469ca1",
   "metadata": {},
   "source": [
    "# USE CASE"
   ]
  },
  {
   "cell_type": "code",
   "execution_count": null,
   "id": "d0df0026",
   "metadata": {},
   "outputs": [],
   "source": [
    "use_case_1 = Image(filename=r\"G:\\Mi unidad\\04_PROYECTOS I+D+i\\2021 USEPE\\iii) Project\\WP2 Management\\Meetings\\20220124 WP4 technical session - monthly meeting\\images\\use_case_1.png\")\n",
    "use_case_2 = Image(filename=r\"G:\\Mi unidad\\04_PROYECTOS I+D+i\\2021 USEPE\\iii) Project\\WP2 Management\\Meetings\\20220124 WP4 technical session - monthly meeting\\images\\use_case_3.png\")\n",
    "display(use_case_1)\n",
    "display(use_case_2)"
   ]
  },
  {
   "cell_type": "markdown",
   "id": "4a9563ec",
   "metadata": {},
   "source": [
    "# Configuration file\n",
    "We create a config file with the following fields:\n",
    "\n",
    "* [City]\n",
    "\n",
    "mode = rectangle\n",
    "\n",
    "#hannover_lat = 52.376\n",
    "\n",
    "#hannover_lon = 9.76\n",
    "\n",
    "#zone_size = 1000\n",
    "\n",
    "hannover_lat_min = 52.36\n",
    "\n",
    "hannover_lat_max = 52.40\n",
    "\n",
    "hannover_lon_min = 9.71\n",
    "\n",
    "hannover_lon_max = 9.76\n",
    "\n",
    "import = False\n",
    "\n",
    "imported_graph_path = ./data/last_mile_delivery_test.graphml\n",
    "\n",
    "* [Layers]\n",
    "\n",
    "number_of_layers = 9\n",
    "\n",
    "layer_width = 25\n",
    "\n",
    "* [BuildingData]\n",
    "\n",
    "lat_min = 52.36\n",
    "\n",
    "lat_max = 52.40\n",
    "\n",
    "lon_min = 9.71\n",
    "\n",
    "lon_max = 9.76\n",
    "\n",
    "divisions = 8\n",
    "\n",
    "directory_hannover = C:\\Users\\jbueno\\Desktop\\Stadtmodell_Hannover_CityGML_LoD1\\LoD1_Graph\n",
    "\n",
    "* [Options]\n",
    "\n",
    "one_way = False\n",
    "\n",
    "simplify = False\n",
    "\n",
    "simplification_distance = 10\n",
    "\n",
    "* [Outputs]\n",
    "\n",
    "graph_path = ./data/last_mile_delivery_test.graphml\n",
    "\n",
    "* [Segments]\n",
    "\n",
    "import = True\n",
    "\n",
    "path = ./data/offline_segments.pkl\n",
    "\n",
    "* [Corridors]\n",
    "\n",
    "corridors = 1 2 3 4\n",
    "\n",
    "altitude = 250\n",
    "\n",
    "delta_z = 25\n",
    "\n",
    "speed = 100\n",
    "\n",
    "acceleration_length = 50\n",
    "\n",
    "file_path_corridors = ./data/usepe-hannover-corridors.geojson\n",
    "\n",
    "* [Strategic_Deconfliction]\n",
    "\n",
    "ratio = 3\n",
    "\n",
    "delay = 60"
   ]
  },
  {
   "cell_type": "code",
   "execution_count": null,
   "id": "18ec67ba",
   "metadata": {},
   "outputs": [],
   "source": [
    "    # -------------- 1. CONFIGURATION FILE -----------------\n",
    "    \"\"\"\n",
    "    This section reads the configuration file.\n",
    "    Change the config_path to read the desired file\n",
    "    \"\"\"\n",
    "    # CONFIG\n",
    "    config_path = r\"C:\\workspace3\\bluesky-USEPE-github\\nommon\\use_case\\settings_last_mile_delivery_test.cfg\"\n",
    "    config = configparser.ConfigParser()\n",
    "    config.read( config_path )\n"
   ]
  },
  {
   "cell_type": "markdown",
   "id": "1403033a",
   "metadata": {},
   "source": [
    "# City Graph"
   ]
  },
  {
   "cell_type": "code",
   "execution_count": null,
   "id": "63559126",
   "metadata": {
    "scrolled": false
   },
   "outputs": [],
   "source": [
    "    # -------------- 2. CITY GRAPH -------------------------\n",
    "    \"\"\"\n",
    "    This section creates a city graph or loads the graph defined with the city section of the\n",
    "    configuration file.\n",
    "    \"\"\"\n",
    "    # City\n",
    "    if config['City'].getboolean( 'import' ):\n",
    "        filepath = config['City']['imported_graph_path']\n",
    "        G = read_my_graphml( filepath )\n",
    "        G = MultiDiGrpah3D( G )\n",
    "        # fig, ax = ox.plot_graph( G )\n",
    "    else:\n",
    "        G = cityGraph( config )\n"
   ]
  },
  {
   "cell_type": "markdown",
   "id": "45fb04f5",
   "metadata": {},
   "source": [
    "# Segments"
   ]
  },
  {
   "cell_type": "code",
   "execution_count": null,
   "id": "7f21f511",
   "metadata": {
    "scrolled": true
   },
   "outputs": [],
   "source": [
    "    # -------------- 3. SEGMENTS ----------------------------\n",
    "    \"\"\"\n",
    "    This section creates a airspace segmentation or loads the segmentation defined with the segment\n",
    "    section of the configuration file.\n",
    "    Comment it to neglect the segmentation\n",
    "    \"\"\"\n",
    "    os.chdir(r\"C:\\workspace3\\bluesky-USEPE-github\\nommon\\use_case\")\n",
    "    if config['Segments'].getboolean( 'import' ):\n",
    "        path = config['Segments']['path']\n",
    "        with open( path, 'rb' ) as f:\n",
    "            segments = pickle.load( f )\n",
    "    else:\n",
    "        segments = None\n",
    "    \n",
    "    path = r\"./data/hannover.geojson\"\n",
    "    cells = gpd.read_file(path, driver=\"GeoJSON\")\n",
    "    cells.plot(column = \"class\")\n",
    "    # G, segments = dynamicSegments( G, config, segments, deleted_segments=None )"
   ]
  },
  {
   "cell_type": "markdown",
   "id": "e712a28e",
   "metadata": {},
   "source": [
    "# Corridors"
   ]
  },
  {
   "cell_type": "code",
   "execution_count": null,
   "id": "a9d39f90",
   "metadata": {},
   "outputs": [],
   "source": [
    "    # -------------- 4. CORRIDORS ---------------------------\n",
    "    \"\"\"\n",
    "    This section loads the corridors defined with the corridor section of the configuration file\n",
    "    Comment it to neglect the creation of corridors\n",
    "    \"\"\"\n",
    "    G, segments = corridorLoad( G, segments, config )\n",
    "    # G, segments = dynamicSegments( G, config, segments, deleted_segments=None )\n"
   ]
  },
  {
   "cell_type": "code",
   "execution_count": null,
   "id": "edffc449",
   "metadata": {
    "scrolled": false
   },
   "outputs": [],
   "source": [
    "fig, ax = ox.plot_graph( G )"
   ]
  },
  {
   "cell_type": "markdown",
   "id": "6a480697",
   "metadata": {},
   "source": [
    "# Segment update"
   ]
  },
  {
   "cell_type": "code",
   "execution_count": null,
   "id": "761c0746",
   "metadata": {
    "scrolled": true
   },
   "outputs": [],
   "source": [
    "    # ---------------- 5. Segment update --------------------\n",
    "    \"\"\"\n",
    "    Once we have loaded the segments and we created the corridors, we update the graph based on the parameters of the segments\n",
    "    \"\"\"\n",
    "    G, segments = dynamicSegments( G, config, segments, deleted_segments=None )"
   ]
  },
  {
   "cell_type": "markdown",
   "id": "499f197c",
   "metadata": {},
   "source": [
    "# Path planning\n"
   ]
  },
  {
   "cell_type": "code",
   "execution_count": null,
   "id": "189a4583",
   "metadata": {},
   "outputs": [],
   "source": [
    "display(use_case_2)"
   ]
  },
  {
   "cell_type": "markdown",
   "id": "814e666c",
   "metadata": {},
   "source": [
    "# Scenario 1\n",
    "## Route A - B "
   ]
  },
  {
   "cell_type": "code",
   "execution_count": null,
   "id": "e85d35e0",
   "metadata": {},
   "outputs": [],
   "source": [
    "    # -------------- 6. PATH PLANNING -----------------------\n",
    "    \"\"\"\n",
    "    This section computes an optimal trajectory from origin to destination. The trajectory is\n",
    "    optimal according to travel time.\n",
    "    Comment it to no calculate an optimal trajectory\n",
    "    Introduce origin and destination points inside the graph\n",
    "    \"\"\"\n",
    "    A = [9.715, 52.39 ]  # origin point\n",
    "    B = [9.7493106, 52.377872]  # destination point\n",
    "    travel_time, route = trajectoryCalculation( G, A, B )\n",
    "    print( 'The travel time of the route is {0}'.format( travel_time ) )\n",
    "    # print( 'The route is {0}'.format( route ) )\n",
    "    fig, ax = ox.plot_graph_route( G, route, node_size=0 )\n",
    "    ax.set_xlim(9.709,9.761)\n",
    "    ax.set_ylim(52.359,52.401)\n",
    "    fig"
   ]
  },
  {
   "cell_type": "code",
   "execution_count": null,
   "id": "bbca4c12",
   "metadata": {
    "scrolled": false
   },
   "outputs": [],
   "source": [
    "print(route)"
   ]
  },
  {
   "cell_type": "markdown",
   "id": "073b8017",
   "metadata": {},
   "source": [
    "### BlueSky scenario"
   ]
  },
  {
   "cell_type": "code",
   "execution_count": null,
   "id": "62124437",
   "metadata": {},
   "outputs": [],
   "source": [
    "# -------------- 7. Scenario definition -----------------------\n",
    "\"\"\"\n",
    "This section computes scenarios to be used in BlueSky.\n",
    "We generate the flight plan of one drone. A scenario file is generated, which can be loaded by\n",
    "BlueSky. The \"createFlightPlan\" function transforms the optimal path (list of waypoints) to\n",
    "BlueSky commands\n",
    "\"\"\"\n",
    "ac = 'U001'\n",
    "departure_time = '00:00:00.00'\n",
    "scenario_path = r'.\\scenario\\U001_AB.scn'\n",
    "scenario_file = open( scenario_path, 'w' )\n",
    "layers_dict = layersDict( config )\n",
    "createFlightPlan( route, ac, departure_time, G, layers_dict, scenario_file )\n",
    "scenario_file.close()\n"
   ]
  },
  {
   "cell_type": "code",
   "execution_count": null,
   "id": "0acf371f",
   "metadata": {
    "scrolled": false
   },
   "outputs": [],
   "source": [
    "bluesky = Image(filename=r\"G:\\Mi unidad\\04_PROYECTOS I+D+i\\2021 USEPE\\iii) Project\\WP2 Management\\Meetings\\20220124 WP4 technical session - monthly meeting\\images\\BlueSky.png\")\n",
    "display(bluesky)"
   ]
  },
  {
   "cell_type": "markdown",
   "id": "34c22556",
   "metadata": {},
   "source": [
    "Write de commands:\n",
    "* VIS MAP TILEDMAP\n",
    "* PAN 52.39 9.715\n",
    "* ZOOM 100"
   ]
  },
  {
   "cell_type": "code",
   "execution_count": null,
   "id": "ea58ec6f",
   "metadata": {
    "scrolled": false
   },
   "outputs": [],
   "source": [
    "bluesky2 = Image(filename=r\"G:\\Mi unidad\\04_PROYECTOS I+D+i\\2021 USEPE\\iii) Project\\WP2 Management\\Meetings\\20220124 WP4 technical session - monthly meeting\\images\\BlueSky_2.png\")\n",
    "display(bluesky2)"
   ]
  },
  {
   "cell_type": "markdown",
   "id": "52ff6448",
   "metadata": {},
   "source": [
    "Running the scenario we have just created:\n",
    "* IC {path}"
   ]
  },
  {
   "cell_type": "code",
   "execution_count": null,
   "id": "00367aa7",
   "metadata": {},
   "outputs": [],
   "source": [
    "from IPython.display import HTML\n",
    "from base64 import b64encode\n",
    "\n",
    "def play(filename):\n",
    "    html = ''\n",
    "    video = open(filename,'rb').read()\n",
    "    src = 'data:video/mp4;base64,' + b64encode(video).decode()\n",
    "    html += '<video width=1000 controls autoplay loop><source src=\"%s\" type=\"video/mp4\"></video>' % src \n",
    "    return HTML(html)\n",
    "\n",
    "filename = r\"G:\\Mi unidad\\04_PROYECTOS I+D+i\\2021 USEPE\\iii) Project\\WP2 Management\\Meetings\\20220124 WP4 technical session - monthly meeting\\videos\\scenario1.mp4\"\n",
    "play(filename)"
   ]
  },
  {
   "cell_type": "markdown",
   "id": "3e739c07",
   "metadata": {},
   "source": [
    "# Scenario 2\n",
    "## Route C - D"
   ]
  },
  {
   "cell_type": "code",
   "execution_count": null,
   "id": "acbdf9ba",
   "metadata": {},
   "outputs": [],
   "source": [
    "display(use_case_2)"
   ]
  },
  {
   "cell_type": "code",
   "execution_count": null,
   "id": "da847922",
   "metadata": {
    "scrolled": false
   },
   "outputs": [],
   "source": [
    "    # -------------- 6. PATH PLANNING -----------------------\n",
    "    \"\"\"\n",
    "    This section computes an optimal trajectory from origin to destination. The trajectory is\n",
    "    optimal according to travel time.\n",
    "    Comment it to no calculate an optimal trajectory\n",
    "    Introduce origin and destination points inside the graph\n",
    "    \"\"\"\n",
    "    C = [9.75, 52.394 ]  # origin point\n",
    "    D = [9.742, 52.367] # destination point\n",
    "    travel_time, route = trajectoryCalculation( G, C, D )\n",
    "    print( 'The travel time of the route is {0}'.format( travel_time ) )\n",
    "    # print( 'The route is {0}'.format( route ) )\n",
    "    fig, ax = ox.plot_graph_route( G, route, node_size=0 )\n",
    "    ax.set_xlim(9.709,9.761)\n",
    "    ax.set_ylim(52.359,52.401)\n",
    "    fig"
   ]
  },
  {
   "cell_type": "code",
   "execution_count": null,
   "id": "d8549a8e",
   "metadata": {},
   "outputs": [],
   "source": [
    "# -------------- 7. Scenario definition -----------------------\n",
    "\"\"\"\n",
    "This section computes scenarios to be used in BlueSky.\n",
    "We generate the flight plan of one drone. A scenario file is generated, which can be loaded by\n",
    "BlueSky. The \"createFlightPlan\" function transforms the optimal path (list of waypoints) to\n",
    "BlueSky commands\n",
    "\"\"\"\n",
    "ac = 'U002'\n",
    "# departure_time = '00:00:00.00'\n",
    "departure_time = str( datetime.timedelta( seconds=308 ) )\n",
    "scenario_path = r'.\\scenario\\U002_CD.scn'\n",
    "scenario_file = open( scenario_path, 'w' )\n",
    "layers_dict = layersDict( config )\n",
    "createFlightPlan( route, ac, departure_time, G, layers_dict, scenario_file )\n",
    "scenario_file.close()"
   ]
  },
  {
   "cell_type": "markdown",
   "id": "16e2f375",
   "metadata": {},
   "source": [
    "## BlueSky\n",
    "We create a scenario file \"scenario_2.scn\" with these two lines:\n",
    "\n",
    "00:00:00> PCALL ../nommon/use_case/scenario/U001_AB.scn\n",
    "\n",
    "00:08:36> PCALL ../nommon/use_case/scenario/U002_CD.scn REL\n",
    "\n",
    "Running this scenario:"
   ]
  },
  {
   "cell_type": "code",
   "execution_count": null,
   "id": "761c0434",
   "metadata": {},
   "outputs": [],
   "source": [
    "filename = r\"G:\\Mi unidad\\04_PROYECTOS I+D+i\\2021 USEPE\\iii) Project\\WP2 Management\\Meetings\\20220124 WP4 technical session - monthly meeting\\videos\\scenario2_1.mp4\"\n",
    "play(filename)"
   ]
  },
  {
   "cell_type": "markdown",
   "id": "a4d29dec",
   "metadata": {},
   "source": [
    "# Strategic Deconfliction: A - B and C - D"
   ]
  },
  {
   "cell_type": "code",
   "execution_count": null,
   "id": "83a4e81e",
   "metadata": {},
   "outputs": [],
   "source": [
    "# -------------- 8. Strategic deconfliction -----------------------\n",
    "\"\"\"\n",
    "This section computes an strategic deconflicted trajectory from origin to destination. An\n",
    "empty initial population is generated.\n",
    "\"\"\"\n",
    "initial_time = 0  # seconds\n",
    "final_time = 1800  # seconds\n",
    "users = initialPopulation( segments, initial_time, final_time )\n",
    "segments['410']['capacity'] = 1"
   ]
  },
  {
   "cell_type": "code",
   "execution_count": null,
   "id": "80348894",
   "metadata": {},
   "outputs": [],
   "source": [
    "orig = A  # origin point\n",
    "dest = B  # destination point\n",
    "ac = 'U001'\n",
    "departure_time = 0  # seconds\n",
    "scenario_path =  r'.\\scenario\\U001_AB_deconflicted.scn'\n",
    "scenario_file = open( scenario_path, 'w' )\n",
    "users, route = deconflcitedScenario( orig, dest, ac, departure_time, G, users, initial_time,\n",
    "                              final_time, segments, layers_dict, scenario_file, config )\n",
    "scenario_file.close()"
   ]
  },
  {
   "cell_type": "code",
   "execution_count": null,
   "id": "7e6207d1",
   "metadata": {
    "scrolled": false
   },
   "outputs": [],
   "source": [
    "orig = C  # origin point\n",
    "dest = D  # destination point\n",
    "ac = 'U002'\n",
    "departure_time = 308  # seconds\n",
    "scenario_path =  r'.\\scenario\\U002_CD_deconflicted.scn'\n",
    "scenario_file = open( scenario_path, 'w' )\n",
    "users, route = deconflcitedScenario( orig, dest, ac, departure_time, G, users, initial_time,\n",
    "                              final_time, segments, layers_dict, scenario_file, config )\n",
    "scenario_file.close()\n",
    "\n",
    "fig, ax = ox.plot_graph_route( G, route, node_size=0 )\n",
    "ax.set_xlim(9.709,9.761)\n",
    "ax.set_ylim(52.359,52.401)\n",
    "cells.filter(items = [410], axis=0).plot( ax = ax, alpha = 0.6)\n",
    "fig"
   ]
  },
  {
   "cell_type": "code",
   "execution_count": null,
   "id": "59d46d67",
   "metadata": {},
   "outputs": [],
   "source": [
    "filename = r\"G:\\Mi unidad\\04_PROYECTOS I+D+i\\2021 USEPE\\iii) Project\\WP2 Management\\Meetings\\20220124 WP4 technical session - monthly meeting\\videos\\scenario2_2.mp4\"\n",
    "play(filename)"
   ]
  },
  {
   "cell_type": "markdown",
   "id": "53a55c25",
   "metadata": {},
   "source": [
    "# Strategic Deconfliction: A - B and C - B"
   ]
  },
  {
   "cell_type": "code",
   "execution_count": null,
   "id": "bcb9e8e0",
   "metadata": {},
   "outputs": [],
   "source": [
    "display(use_case_2)"
   ]
  },
  {
   "cell_type": "code",
   "execution_count": null,
   "id": "847c12e1",
   "metadata": {},
   "outputs": [],
   "source": [
    "# -------------- 8. Strategic deconfliction -----------------------\n",
    "\"\"\"\n",
    "This section computes an strategic deconflicted trajectory from origin to destination. An\n",
    "empty initial population is generated.\n",
    "\"\"\"\n",
    "initial_time = 0  # seconds\n",
    "final_time = 1800  # seconds\n",
    "users = initialPopulation( segments, initial_time, final_time )\n",
    "segments['410']['capacity'] = 1"
   ]
  },
  {
   "cell_type": "code",
   "execution_count": null,
   "id": "d13577ad",
   "metadata": {},
   "outputs": [],
   "source": [
    "orig = A  # origin point\n",
    "dest = B  # destination point\n",
    "ac = 'U001'\n",
    "departure_time = 0  # seconds\n",
    "scenario_path =  r'.\\scenario\\U001_AB_deconflicted.scn'\n",
    "scenario_file = open( scenario_path, 'w' )\n",
    "users, route = deconflcitedScenario( orig, dest, ac, departure_time, G, users, initial_time,\n",
    "                              final_time, segments, layers_dict, scenario_file, config )\n",
    "scenario_file.close()"
   ]
  },
  {
   "cell_type": "code",
   "execution_count": null,
   "id": "a55b6768",
   "metadata": {},
   "outputs": [],
   "source": [
    "orig = C  # origin point\n",
    "dest = B  # destination point\n",
    "ac = 'U002'\n",
    "departure_time = 308  # seconds\n",
    "scenario_path =  r'.\\scenario\\U002_CB_deconflicted.scn'\n",
    "scenario_file = open( scenario_path, 'w' )\n",
    "users, route = deconflcitedScenario( orig, dest, ac, departure_time, G, users, initial_time,\n",
    "                              final_time, segments, layers_dict, scenario_file, config )\n",
    "scenario_file.close()\n",
    "\n",
    "fig, ax = ox.plot_graph_route( G, route, node_size=0 )\n",
    "ax.set_xlim(9.709,9.761)\n",
    "ax.set_ylim(52.359,52.401)\n",
    "cells.filter(items = [410], axis=0).plot( ax = ax, alpha = 0.6)\n",
    "fig"
   ]
  },
  {
   "cell_type": "markdown",
   "id": "52ad610b",
   "metadata": {},
   "source": [
    "# N flight plans + conflict detection"
   ]
  },
  {
   "cell_type": "code",
   "execution_count": null,
   "id": "7693ef00",
   "metadata": {},
   "outputs": [],
   "source": [
    "def detectNoFlyZone(lat, lon):\n",
    "    for segment in segments.keys():\n",
    "        if (lat > segments[segment]['lat_min']) & \\\n",
    "            (lat < segments[segment]['lat_max']) & \\\n",
    "            (lon > segments[segment]['lon_min']) & \\\n",
    "            (lon < segments[segment]['lon_max']):\n",
    "            if segments[segment]['class'] == 'white':\n",
    "                return False\n",
    "            else:\n",
    "                return True\n",
    "    \n",
    "    return True\n",
    "    "
   ]
  },
  {
   "cell_type": "code",
   "execution_count": null,
   "id": "3daf556e",
   "metadata": {},
   "outputs": [],
   "source": [
    "# -------------- 8. Strategic deconfliction -----------------------\n",
    "\"\"\"\n",
    "This section computes an strategic deconflicted trajectory from origin to destination. An\n",
    "empty initial population is generated.\n",
    "\"\"\"\n",
    "initial_time = 0  # seconds\n",
    "final_time = 1800  # seconds\n",
    "users = initialPopulation( segments, initial_time, final_time )\n",
    "segments['410']['capacity'] = 3"
   ]
  },
  {
   "cell_type": "code",
   "execution_count": null,
   "id": "bacf8e93",
   "metadata": {
    "scrolled": false
   },
   "outputs": [],
   "source": [
    "N = 20\n",
    "os.chdir(r\"C:\\workspace3\\bluesky-USEPE-github\\nommon\\use_case\")\n",
    "\n",
    "scenario_path =  r'.\\scenario\\N_flights.scn'\n",
    "scenario_file_N = open( scenario_path, 'w' )\n",
    "\n",
    "for i in range(1,N+1):\n",
    "    flag = True\n",
    "    while flag:\n",
    "        orig_lat = random.uniform( config['City'].getfloat( 'hannover_lat_min' ), config['City'].getfloat( 'hannover_lat_max' ) )\n",
    "        orig_lon = random.uniform( config['City'].getfloat( 'hannover_lon_min' ), config['City'].getfloat( 'hannover_lon_max' ) )\n",
    "        flag = detectNoFlyZone(orig_lat, orig_lon)\n",
    "    \n",
    "    orig = [orig_lon, orig_lat]\n",
    "    \n",
    "    flag = True\n",
    "    while flag:\n",
    "        dest_lat = random.uniform( config['City'].getfloat( 'hannover_lat_min' ), config['City'].getfloat( 'hannover_lat_max' ) )\n",
    "        dest_lon = random.uniform( config['City'].getfloat( 'hannover_lon_min' ), config['City'].getfloat( 'hannover_lon_max' ) )\n",
    "        flag = detectNoFlyZone(dest_lat, dest_lon)\n",
    "        travel_time, route = trajectoryCalculation( G, orig, [dest_lon, dest_lat] )\n",
    "        if travel_time > 1800:\n",
    "            flag = True\n",
    "    \n",
    "    dest = [dest_lon, dest_lat]\n",
    "    \n",
    "    \n",
    "    ac = 'U' + str(i)\n",
    "    departure_time = 0  # seconds\n",
    "    scenario_path =  r'.\\scenario\\{0}.scn'.format(ac)\n",
    "    scenario_file = open( scenario_path, 'w' )\n",
    "    users, route = deconflcitedScenario( orig, dest, ac, departure_time, G, users, initial_time,\n",
    "                                  final_time, segments, layers_dict, scenario_file, config )\n",
    "    scenario_file.close()\n",
    "    \n",
    "    scenario_file_N.write( '00:00:00.00 > PCALL ' + '../nommon/use_case/scenario/{0}.scn'.format(ac) + ' REL' + '\\n' )\n",
    "    \n",
    "    \n",
    "scenario_file_N.close() "
   ]
  },
  {
   "cell_type": "markdown",
   "id": "86418c18",
   "metadata": {},
   "source": [
    "Write de commands:\n",
    "* VIS MAP TILEDMAP\n",
    "* PAN 52.39 9.715\n",
    "* ZOOM 100\n",
    "\n",
    "Conflict detection:\n",
    "* ASAS ON\n",
    "* ZONER 0.02\n",
    "\n",
    "Load N flight plans:\n",
    "* IC {path}"
   ]
  },
  {
   "cell_type": "code",
   "execution_count": null,
   "id": "30991af9",
   "metadata": {},
   "outputs": [],
   "source": [
    "filename = r\"G:\\Mi unidad\\04_PROYECTOS I+D+i\\2021 USEPE\\iii) Project\\WP2 Management\\Meetings\\20220124 WP4 technical session - monthly meeting\\videos\\scenarioN.mp4\"\n",
    "play(filename)"
   ]
  },
  {
   "cell_type": "markdown",
   "id": "feaba710",
   "metadata": {},
   "source": [
    "# Wind"
   ]
  },
  {
   "cell_type": "code",
   "execution_count": null,
   "id": "eff08929",
   "metadata": {},
   "outputs": [],
   "source": [
    "os.chdir(r\"C:\\workspace3\\bluesky-USEPE-github\\nommon\\use_case\")\n",
    "\n",
    "path = r\"..\\wind\\data\\test_hannover_1m_masked_M03.000.nc\"\n",
    "grid_spacing_list = [5, 10, 20, 50]\n",
    "time = 0\n",
    "\n",
    "main(path, grid_spacing_list, time)"
   ]
  },
  {
   "cell_type": "markdown",
   "id": "1452708e",
   "metadata": {},
   "source": [
    "Import wind:\n",
    "* PCALL {path} REL\n",
    "\n",
    "### Results\n",
    "Simulations are performed as fast as possible. Scenario characteristics are:\n",
    "* Number of drones = 20\n",
    "* Spatial resolution = 10m\n",
    "* Domain size = 1kmx1km\n",
    "\n",
    "-------------------------------\n",
    "Maximum timestep without wind: x5.6\n",
    "\n",
    "Maximum timestep with wind: x1.1\n",
    "\n",
    "-----\n"
   ]
  },
  {
   "cell_type": "code",
   "execution_count": null,
   "id": "eb629a23",
   "metadata": {},
   "outputs": [],
   "source": []
  }
 ],
 "metadata": {
  "kernelspec": {
   "display_name": "Python 3",
   "language": "python",
   "name": "python3"
  },
  "language_info": {
   "codemirror_mode": {
    "name": "ipython",
    "version": 3
   },
   "file_extension": ".py",
   "mimetype": "text/x-python",
   "name": "python",
   "nbconvert_exporter": "python",
   "pygments_lexer": "ipython3",
   "version": "3.8.1"
  }
 },
 "nbformat": 4,
 "nbformat_minor": 5
}
